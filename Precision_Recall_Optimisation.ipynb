{
  "nbformat": 4,
  "nbformat_minor": 0,
  "metadata": {
    "colab": {
      "name": "Precision/Recall Optimisation.ipynb",
      "provenance": [],
      "collapsed_sections": [],
      "include_colab_link": true
    },
    "kernelspec": {
      "name": "python3",
      "display_name": "Python 3"
    }
  },
  "cells": [
    {
      "cell_type": "markdown",
      "metadata": {
        "id": "view-in-github",
        "colab_type": "text"
      },
      "source": [
        "<a href=\"https://colab.research.google.com/github/ZackAkil/Hands-on-ML-Precision-Recall-Predicting-Pneumonia-in-X-rays/blob/master/Precision_Recall_Optimisation.ipynb\" target=\"_parent\"><img src=\"https://colab.research.google.com/assets/colab-badge.svg\" alt=\"Open In Colab\"/></a>"
      ]
    },
    {
      "cell_type": "markdown",
      "metadata": {
        "id": "Q7tUhI8TJI_z",
        "colab_type": "text"
      },
      "source": [
        "# Precision/Recall Optimisation\n",
        "This notebook will walk you through the process of building a Machine Learning model for predicting if a patient **has pneumonia** or **not** based on their X-ray image.\n",
        "\n",
        "Then you will be tasked with optiising the model for **precision** or **recall** based on your desired application.\n",
        "\n",
        "![alt text](https://raw.githubusercontent.com/ZackAkil/machine-learning-trenches-and-highways/master/misc/xray.png)\n",
        "\n",
        "Learning outcomes:\n",
        "\n",
        "1.   Importing data and building an image classifier\n",
        "2.   Getting raw score predictions and class predictions\n",
        "3.   Visualising model performance using a confusion matrix\n",
        "4.   🌟Optimising model decision threshold using Precision/Recall scores\n",
        "5.   Deploying a model using your desired decision threshold."
      ]
    },
    {
      "cell_type": "code",
      "metadata": {
        "id": "aHj71S48JP8Q",
        "colab_type": "code",
        "cellView": "form",
        "colab": {}
      },
      "source": [
        "#@title 1. Run this code to check-in to the workshop \n",
        "\n",
        "#@markdown Give yourself a unique **student id** and then *click on the* ▶ *button* on the left:\n",
        "\n",
        "STUDENT_ID = \"\" #@param {type:\"string\"}\n",
        "\n",
        "if STUDENT_ID:\n",
        "\n",
        "  import requests\n",
        "\n",
        "  WORKSHOP_ID = \"CLDS1_PR\"\n",
        "\n",
        "  def submit_answer(task_id, answer):\n",
        "    submission_url = 'https://us-central1-remote-workshop.cloudfunctions.net/workshop_submission'\n",
        "    r = requests.post(submission_url, json={\"workshop_id\": WORKSHOP_ID,\n",
        "                                      \"student_id\": STUDENT_ID,\n",
        "                                      \"task_id\": task_id,\n",
        "                                      \"answer\": str(answer)})\n",
        "    output = r.text\n",
        "    if (r.text == 'sorry') or not r.ok:\n",
        "      print('❌ Oops, that answer isnt quite right')\n",
        "    else:\n",
        "      print('✔️ Correct! You can progress to the next section')\n",
        "\n",
        "\n",
        "  sign_in_url = 'https://us-central1-remote-workshop.cloudfunctions.net/workshop_checkin'\n",
        "  r = requests.post(sign_in_url, json={\"workshop_id\": WORKSHOP_ID,\n",
        "                                      \"student_id\":STUDENT_ID})\n",
        "\n",
        "  print(r.text)\n",
        "else:\n",
        "  print('⚠️ Please enter in your student name/id')"
      ],
      "execution_count": 0,
      "outputs": []
    },
    {
      "cell_type": "markdown",
      "metadata": {
        "id": "_a79wVUhNAbU",
        "colab_type": "text"
      },
      "source": [
        "### 2. Let's test to see that everything is working"
      ]
    },
    {
      "cell_type": "code",
      "metadata": {
        "id": "9Yp7k2ZZKJJ0",
        "colab_type": "code",
        "colab": {}
      },
      "source": [
        "# [TASK] Fill in the answer to the ultimate question\n",
        "# YOUR CODE STARTS HERE\n",
        "\n",
        "two_plus_two = None\n",
        "\n",
        "# YOUR CODE ENDS HERE\n",
        "\n",
        "print(two_plus_two)\n",
        "submit_answer('task_1', two_plus_two)"
      ],
      "execution_count": 0,
      "outputs": []
    },
    {
      "cell_type": "markdown",
      "metadata": {
        "id": "u6Ndf7N0wxMH",
        "colab_type": "text"
      },
      "source": [
        "## 3. Download dataset\n",
        "We have the dataset of x-ray images and labels stored remotly.\n",
        "Run the following cell to download to data into the notebook."
      ]
    },
    {
      "cell_type": "code",
      "metadata": {
        "id": "AhkQ1j6Jo7-v",
        "colab_type": "code",
        "colab": {}
      },
      "source": [
        "!gsutil cp gs://meetup-datasets/pneumonia.obj .\n",
        "\n",
        "import os.path\n",
        "\n",
        "# check if dataset file exists\n",
        "if os.path.isfile('pneumonia.obj'):\n",
        "    print('exists')\n",
        "    submit_answer('task_2', 1)\n",
        "else:\n",
        "    print('missing, try downloading the data again')\n",
        "    submit_answer('task_2', 0)"
      ],
      "execution_count": 0,
      "outputs": []
    },
    {
      "cell_type": "markdown",
      "metadata": {
        "id": "PbXlp5z_w4Ds",
        "colab_type": "text"
      },
      "source": [
        "## 4. Load data "
      ]
    },
    {
      "cell_type": "markdown",
      "metadata": {
        "id": "SANlYVY_MyuJ",
        "colab_type": "text"
      },
      "source": [
        "Read dataset into the python environment by specifying the file name of the dataset (`pneumonias.obj`). \n",
        "\n"
      ]
    },
    {
      "cell_type": "code",
      "metadata": {
        "id": "P6V48riievPu",
        "colab_type": "code",
        "colab": {}
      },
      "source": [
        "import numpy as np\n",
        "import pickle \n",
        "\n",
        "# [TASK] Specifying the filename of the dataset\n",
        "# YOUR CODE STARTS HERE\n",
        "\n",
        "file_name = None\n",
        "\n",
        "# YOUR CODE ENDS HERE\n",
        "\n",
        "print(file_name)\n",
        "submit_answer('task_3', file_name)\n",
        "\n",
        "# open dataset file\n",
        "with open(file_name, 'rb') as file: \n",
        "  data = pickle.load(file)  "
      ],
      "execution_count": 0,
      "outputs": []
    },
    {
      "cell_type": "markdown",
      "metadata": {
        "id": "wIUC8wRtw84i",
        "colab_type": "text"
      },
      "source": [
        "## 5. Make our `input` and `output` data variables"
      ]
    },
    {
      "cell_type": "code",
      "metadata": {
        "id": "ymo1oNPCe_KH",
        "colab_type": "code",
        "colab": {}
      },
      "source": [
        "# get the input images and assign them to X\n",
        "X = data['images']\n",
        "\n",
        "# get the output labels and assign them to y\n",
        "y = data['labels']"
      ],
      "execution_count": 0,
      "outputs": []
    },
    {
      "cell_type": "markdown",
      "metadata": {
        "id": "_4aq3hj7qWgH",
        "colab_type": "text"
      },
      "source": [
        "## 6. Let's look at the `shape` of our data "
      ]
    },
    {
      "cell_type": "code",
      "metadata": {
        "id": "Pjl9C1xXxucM",
        "colab_type": "code",
        "colab": {}
      },
      "source": [
        "# get the shape of the input data\n",
        "X.shape"
      ],
      "execution_count": 0,
      "outputs": []
    },
    {
      "cell_type": "code",
      "metadata": {
        "id": "lMI15kOlxvpG",
        "colab_type": "code",
        "colab": {}
      },
      "source": [
        "# [TASK] get the shape of the output data (y) and assign it to output_shape\n",
        "# YOUR CODE STARTS HERE\n",
        "\n",
        "output_shape = None\n",
        "\n",
        "# YOUR CODE ENDS HERE\n",
        "\n",
        "print(output_shape)\n",
        "submit_answer('task_4', output_shape)"
      ],
      "execution_count": 0,
      "outputs": []
    },
    {
      "cell_type": "markdown",
      "metadata": {
        "id": "CsIv1OZmxFLj",
        "colab_type": "text"
      },
      "source": [
        "## 7. Look at some of the images"
      ]
    },
    {
      "cell_type": "code",
      "metadata": {
        "id": "6v7kBNULxL8V",
        "colab_type": "code",
        "colab": {}
      },
      "source": [
        "# import data viz package\n",
        "import matplotlib.pyplot as plt\n",
        "\n",
        "# get first image\n",
        "first_image = X[0,:,:,0]\n",
        "\n",
        "# display image\n",
        "plt.imshow(first_image, cmap='gray')\n",
        "plt.show()"
      ],
      "execution_count": 0,
      "outputs": []
    },
    {
      "cell_type": "code",
      "metadata": {
        "id": "OydVMQ_srjGv",
        "colab_type": "code",
        "cellView": "form",
        "colab": {}
      },
      "source": [
        "#@markdown How many images are there?\n",
        "number_of_images = 0 #@param {type:\"integer\"}\n",
        "submit_answer('task_5', number_of_images)"
      ],
      "execution_count": 0,
      "outputs": []
    },
    {
      "cell_type": "code",
      "metadata": {
        "colab_type": "code",
        "cellView": "form",
        "id": "4hdU18aQr8hK",
        "colab": {}
      },
      "source": [
        "#@markdown How many pixels wide are the images?\n",
        "image_width = 0 #@param {type:\"integer\"}\n",
        "submit_answer('task_6', image_width)"
      ],
      "execution_count": 0,
      "outputs": []
    },
    {
      "cell_type": "code",
      "metadata": {
        "id": "RVd-DJ53sfTr",
        "colab_type": "code",
        "cellView": "form",
        "colab": {}
      },
      "source": [
        "#@markdown How many pixels tall are the images?\n",
        "image_height =  0#@param {type:\"integer\"}\n",
        "submit_answer('task_7', image_height)"
      ],
      "execution_count": 0,
      "outputs": []
    },
    {
      "cell_type": "code",
      "metadata": {
        "id": "G9sEBw7lsk0R",
        "colab_type": "code",
        "cellView": "form",
        "colab": {}
      },
      "source": [
        "#@markdown How many channels of colour are there in the images?\n",
        "colour_channels =  0#@param {type:\"integer\"}\n",
        "submit_answer('task_8', colour_channels)"
      ],
      "execution_count": 0,
      "outputs": []
    },
    {
      "cell_type": "markdown",
      "metadata": {
        "id": "amRxopbSs6aU",
        "colab_type": "text"
      },
      "source": [
        "## 8. Let's look at the corrisponding label for the image displayed above."
      ]
    },
    {
      "cell_type": "code",
      "metadata": {
        "id": "9_3cJjkbxXCo",
        "colab_type": "code",
        "colab": {}
      },
      "source": [
        "# get the first label\n",
        "first_label = y[0]\n",
        "first_label"
      ],
      "execution_count": 0,
      "outputs": []
    },
    {
      "cell_type": "markdown",
      "metadata": {
        "id": "ROy_VgWrtUld",
        "colab_type": "text"
      },
      "source": [
        "In our dataset:\n",
        "\n",
        "`1` =  `pneumonia`\n",
        "\n",
        "`0` = `no pneumonia (normal)` \n",
        "\n",
        "So that first image conatains **no pneumonia**"
      ]
    },
    {
      "cell_type": "code",
      "metadata": {
        "id": "sqbef7S4xbZX",
        "colab_type": "code",
        "colab": {}
      },
      "source": [
        "# diplsay the last image in our dataset\n",
        "\n",
        "last_image = X[-1,:,:,0]\n",
        "plt.imshow(last_image, cmap='gray')\n",
        "plt.show()"
      ],
      "execution_count": 0,
      "outputs": []
    },
    {
      "cell_type": "code",
      "metadata": {
        "id": "TEkvSsGJxn3a",
        "colab_type": "code",
        "colab": {}
      },
      "source": [
        "# get the corrisponding label\n",
        "last_label = y[-1]\n",
        "last_label"
      ],
      "execution_count": 0,
      "outputs": []
    },
    {
      "cell_type": "code",
      "metadata": {
        "id": "JZUlABOEuLKJ",
        "colab_type": "code",
        "cellView": "form",
        "colab": {}
      },
      "source": [
        "#@title 9. What is the label/class for the last image?\n",
        "image_label = \"[select an option]\" #@param [\"pneumonia\", \"no pneumonia\", \"[select an option]\"]\n",
        "print(image_label)\n",
        "submit_answer('task_9', image_label)"
      ],
      "execution_count": 0,
      "outputs": []
    },
    {
      "cell_type": "markdown",
      "metadata": {
        "id": "owOivdgqu3iD",
        "colab_type": "text"
      },
      "source": [
        "## 10. Let's see how many of each label we have"
      ]
    },
    {
      "cell_type": "code",
      "metadata": {
        "id": "xBsgG8JORHQu",
        "colab_type": "code",
        "colab": {}
      },
      "source": [
        "# count the frequency of each label\n",
        "number_of_pneumonia = (y==1).sum()\n",
        "number_of_normal = (y==0).sum()\n",
        "\n",
        "print('number of pneumonia images:',number_of_pneumonia)\n",
        "print('number of normal images:',number_of_normal)"
      ],
      "execution_count": 0,
      "outputs": []
    },
    {
      "cell_type": "markdown",
      "metadata": {
        "id": "lBG3lXmNvbxH",
        "colab_type": "text"
      },
      "source": [
        "# 11. Quick summary:\n",
        "We have just imported our dataset of 2000 input images that are each 80x80 resolution and single channel (grayscale). We also have corresponding labels of 0's and 1's where `0 = normal`, and `1 = pneumonia`. There is an equal balance of normal and pneumonia images (1000 normal, 1000 pneumonia). "
      ]
    },
    {
      "cell_type": "markdown",
      "metadata": {
        "id": "paZu3DifQ9Fm",
        "colab_type": "text"
      },
      "source": [
        "\n",
        "\n",
        "---\n",
        "\n"
      ]
    },
    {
      "cell_type": "markdown",
      "metadata": {
        "id": "MsBrUtkzx1CQ",
        "colab_type": "text"
      },
      "source": [
        "## 12. Split data into `train` and `test` datasets\n",
        "We will partition our data (`X` and `y`) into a `train` set that our neural network will learn, and a `test` set that we will use to test if our neural network did in fact learn how to recognise pneumonia."
      ]
    },
    {
      "cell_type": "code",
      "metadata": {
        "id": "BQ4kERYkfZ1N",
        "colab_type": "code",
        "colab": {}
      },
      "source": [
        "# import package that will do the train/test split of our data\n",
        "from sklearn.model_selection import train_test_split\n",
        "\n",
        "# split out data\n",
        "X_train, X_test, y_train, y_test = train_test_split(\n",
        "    X, y, test_size=0.3, random_state=42)"
      ],
      "execution_count": 0,
      "outputs": []
    },
    {
      "cell_type": "markdown",
      "metadata": {
        "id": "aRUPLtBAyAcB",
        "colab_type": "text"
      },
      "source": [
        "## 13. Build Neural Network for predicting based on our images\n",
        "We will now create our neural network (the specific type of NN is a *Convolutional Neural Network for Binary Classification*)."
      ]
    },
    {
      "cell_type": "code",
      "metadata": {
        "id": "YlvQVFDRfdTx",
        "colab_type": "code",
        "colab": {}
      },
      "source": [
        "# import packages for building a neural network\n",
        "from tensorflow.keras.models import Sequential\n",
        "from tensorflow.keras.layers import Conv2D, Dense, Flatten"
      ],
      "execution_count": 0,
      "outputs": []
    },
    {
      "cell_type": "markdown",
      "metadata": {
        "id": "Tl4SuljIytGO",
        "colab_type": "text"
      },
      "source": [
        "Here we will define the layers of our neural network, what each of these do is out of scope for this lesson, but you can see that the first layer has `input_shape=(80, 80, 1)` which you might remember being the resolution and colour channels of our images.\n",
        "\n",
        "The last layer is `Dense(1, activation='sigmoid')` which is what we use to tell the neural network to predict a number between 0 or 1. If you are curious you can look up what a \"**sigmoid function**\" is and you can maybe see why we use it in predicting 0 or 1 problems (Binary Classification)."
      ]
    },
    {
      "cell_type": "code",
      "metadata": {
        "id": "SKjnBZCUfey5",
        "colab_type": "code",
        "colab": {}
      },
      "source": [
        "# create our neural network model\n",
        "model = Sequential()\n",
        "\n",
        "# define each layer \n",
        "model.add(Conv2D(32, kernel_size=(3, 3),\n",
        "                 activation='relu',\n",
        "                 input_shape=(80, 80, 1)))\n",
        "model.add(Conv2D(32, (3, 3), activation='relu'))\n",
        "model.add(Conv2D(32, (3, 3), activation='relu'))\n",
        "model.add(Flatten())\n",
        "model.add(Dense(64, activation='relu'))\n",
        "model.add(Dense(1, activation='sigmoid'))"
      ],
      "execution_count": 0,
      "outputs": []
    },
    {
      "cell_type": "code",
      "metadata": {
        "id": "ApGDbRt9fgZk",
        "colab_type": "code",
        "colab": {}
      },
      "source": [
        "# compile model our model\n",
        "model.compile(loss='binary_crossentropy',\n",
        "              optimizer='Adam',\n",
        "              metrics=['accuracy'])"
      ],
      "execution_count": 0,
      "outputs": []
    },
    {
      "cell_type": "code",
      "metadata": {
        "id": "I1cg594x0sjt",
        "colab_type": "code",
        "cellView": "form",
        "colab": {}
      },
      "source": [
        "#@title What is the input to the neural network model?\n",
        "model_input = \"[select an option]\" #@param [\"60x60 colour image (60, 60, 3)\", \"80x80 colour image (80, 80, 3)\", \"90x90 colour image (90, 90, 3)\", \"60x60 grayscale image (60, 60, 1)\", \"80x80 grayscale image (80, 80, 1)\", \"90x90 grayscale image (90, 90, 1)\", \"[select an option]\"]\n",
        "print(model_input)\n",
        "submit_answer('task_10', model_input)"
      ],
      "execution_count": 0,
      "outputs": []
    },
    {
      "cell_type": "code",
      "metadata": {
        "id": "rgej-OQy1tOP",
        "colab_type": "code",
        "cellView": "form",
        "colab": {}
      },
      "source": [
        "#@title What is the output of the neural network model? \n",
        "model_output = \"[select an option]\" #@param [\"either \\\"normal\\\" or \\\"pneumonia\\\"\", \"either 1 or 0\", \"a number between 0 and 1 inclusive (0 \\u003C= value \\u003C=1)\", \"[select an option]\"]\n",
        "print(model_output)\n",
        "submit_answer('task_11', model_output)"
      ],
      "execution_count": 0,
      "outputs": []
    },
    {
      "cell_type": "markdown",
      "metadata": {
        "id": "VgnyhJ0lyK7Z",
        "colab_type": "text"
      },
      "source": [
        "## 14. Train our Neural Network using our training dataset"
      ]
    },
    {
      "cell_type": "code",
      "metadata": {
        "id": "tJI38kQXftqf",
        "colab_type": "code",
        "colab": {}
      },
      "source": [
        "# train the model for 2 epochs with our training data, and test using our test data \n",
        "training_job = model.fit(X_train, y_train,\n",
        "                        validation_data=(X_test, y_test),\n",
        "                        epochs=2)\n",
        "submit_answer('task_12', 'completed training')"
      ],
      "execution_count": 0,
      "outputs": []
    },
    {
      "cell_type": "markdown",
      "metadata": {
        "id": "udGv3u25ySro",
        "colab_type": "text"
      },
      "source": [
        "## 15. Look at the performance of the model change whilst training"
      ]
    },
    {
      "cell_type": "code",
      "metadata": {
        "id": "HRBRt0edfvOy",
        "colab_type": "code",
        "colab": {}
      },
      "source": [
        "# extract the accuracy on our training data (accuracy) and the accuracy on our\n",
        "# test data (val_accuracy) as our model was training/learning\n",
        "train_score = training_job.history['accuracy']\n",
        "test_score = training_job.history['val_accuracy']\n",
        "\n",
        "# plot scores\n",
        "plt.plot(train_score, c='b', label='Train Score')\n",
        "plt.plot(test_score, c='r', label='Test Score')\n",
        "plt.ylim(0,1)\n",
        "plt.legend()\n",
        "plt.show()"
      ],
      "execution_count": 0,
      "outputs": []
    },
    {
      "cell_type": "markdown",
      "metadata": {
        "id": "CLGNyKHpyd_c",
        "colab_type": "text"
      },
      "source": [
        "### 16. Let's make a prediction on a single image"
      ]
    },
    {
      "cell_type": "code",
      "metadata": {
        "id": "Z7Tk-YuAzW4w",
        "colab_type": "code",
        "colab": {}
      },
      "source": [
        "# let's look at the shape of a single image\n",
        "X_test[0].shape"
      ],
      "execution_count": 0,
      "outputs": []
    },
    {
      "cell_type": "code",
      "metadata": {
        "id": "nqISORiszUxN",
        "colab_type": "code",
        "colab": {}
      },
      "source": [
        "# keras is expecting a list of images (even when you only want to predict on one)\n",
        "# so we need to add an extra dimension onto our image. It's silly but necessary.\n",
        "np.expand_dims(X_test[0], axis=0).shape"
      ],
      "execution_count": 0,
      "outputs": []
    },
    {
      "cell_type": "code",
      "metadata": {
        "id": "F6eNu5sQnkjH",
        "colab_type": "code",
        "colab": {}
      },
      "source": [
        "# view the image we are about to predict on\n",
        "plt.imshow(X_test[0,:,:,0], cmap='gray')\n",
        "plt.show()\n",
        "\n",
        "# get prediction\n",
        "model.predict(np.expand_dims(X_test[0], axis=0))"
      ],
      "execution_count": 0,
      "outputs": []
    },
    {
      "cell_type": "code",
      "metadata": {
        "id": "4z6uq4pJ_WRC",
        "colab_type": "code",
        "cellView": "form",
        "colab": {}
      },
      "source": [
        "#@title What is the prediction output from model? \n",
        "predict_output = \"[select an option]\" #@param [\"a decimal number\", \"either 1 or 0\", \"[select an option]\"]\n",
        "print(predict_output)\n",
        "submit_answer('task_13', predict_output)"
      ],
      "execution_count": 0,
      "outputs": []
    },
    {
      "cell_type": "markdown",
      "metadata": {
        "id": "q7VtplZcAgEd",
        "colab_type": "text"
      },
      "source": [
        "## 17. Let's call the `predict_classes` to get a binary output."
      ]
    },
    {
      "cell_type": "code",
      "metadata": {
        "id": "JScZTrEUoCil",
        "colab_type": "code",
        "colab": {}
      },
      "source": [
        "model.predict_classes(np.expand_dims(X_test[0], axis=0))"
      ],
      "execution_count": 0,
      "outputs": []
    },
    {
      "cell_type": "code",
      "metadata": {
        "id": "heOS0cEuBcOU",
        "colab_type": "code",
        "cellView": "form",
        "colab": {}
      },
      "source": [
        "#@title What is the decision threshold used in the `predict_classes` function? \n",
        "threshold = \"[select an option]\" #@param [\"0.0\", \"0.1\", \"0.2\", \"0.3\", \"0.4\", \"0.5\", \"0.6\", \"0.7\", \"0.8\", \"0.9\", \"1.0\", \"[select an option]\"]\n",
        "print(threshold)\n",
        "submit_answer('task_14', threshold)"
      ],
      "execution_count": 0,
      "outputs": []
    },
    {
      "cell_type": "markdown",
      "metadata": {
        "id": "pJx0-_w7A2LY",
        "colab_type": "text"
      },
      "source": [
        "### Let's compare the the prediction against the actual answer:"
      ]
    },
    {
      "cell_type": "code",
      "metadata": {
        "id": "tGsvz8rayvLx",
        "colab_type": "code",
        "colab": {}
      },
      "source": [
        "# get the true label stored in y_test\n",
        "y_test[0]"
      ],
      "execution_count": 0,
      "outputs": []
    },
    {
      "cell_type": "markdown",
      "metadata": {
        "id": "N3l3sg6i0c0W",
        "colab_type": "text"
      },
      "source": [
        "## 18. Show the probablities/confidence of pneumonia on 20 images from the test data"
      ]
    },
    {
      "cell_type": "code",
      "metadata": {
        "id": "Akt5NAtQgJiG",
        "colab_type": "code",
        "colab": {}
      },
      "source": [
        "data_to_predict = X_test[:200]\n",
        "probabilitie_of_pneumonia = model.predict(data_to_predict)\n",
        "\n",
        "print('each line represents a single image')\n",
        "\n",
        "plt.scatter(probabilitie_of_pneumonia, np.zeros(len(data_to_predict)),marker='|', alpha=0.5, s=500)\n",
        "plt.xlim(0,1)\n",
        "plt.xlabel('Probability of Pneumonia (raw neural network output)')\n",
        "plt.show()\n",
        "\n",
        "if len(probabilitie_of_pneumonia) < 50:\n",
        "  print(probabilitie_of_pneumonia)"
      ],
      "execution_count": 0,
      "outputs": []
    },
    {
      "cell_type": "markdown",
      "metadata": {
        "id": "E0svpbFb0px8",
        "colab_type": "text"
      },
      "source": [
        "# 19. Show what classification those images would get"
      ]
    },
    {
      "cell_type": "code",
      "metadata": {
        "id": "7L9W7xGF0z_4",
        "colab_type": "code",
        "colab": {}
      },
      "source": [
        "class_predictions = model.predict_classes(data_to_predict)\n",
        "\n",
        "plt.scatter(probabilitie_of_pneumonia[class_predictions == 1], \n",
        "            np.zeros(len(probabilitie_of_pneumonia))[ (class_predictions ==1 ).squeeze()],\n",
        "            marker='|', alpha=0.8, s=500, label='Pneumonia', c='r')\n",
        "\n",
        "plt.scatter(probabilitie_of_pneumonia[class_predictions == 0], \n",
        "            np.zeros(len(probabilitie_of_pneumonia))[(class_predictions == 0).squeeze()],\n",
        "            marker='|', alpha=0.8, s=500, label='Normal', c='g')\n",
        "\n",
        "plt.legend()\n",
        "plt.xlim(0,1)\n",
        "plt.xlabel('Probability of Pneumonia')\n",
        "\n",
        "# draw the decision threshold boundary\n",
        "plt.axvline(0.5, linestyle='dashed',c='black')\n",
        "\n",
        "plt.show()"
      ],
      "execution_count": 0,
      "outputs": []
    },
    {
      "cell_type": "markdown",
      "metadata": {
        "id": "y6POPxKn3Ew8",
        "colab_type": "text"
      },
      "source": [
        "## 20. Let's look at the confusion matrix  "
      ]
    },
    {
      "cell_type": "code",
      "metadata": {
        "id": "I4Cg_tubgvUx",
        "colab_type": "code",
        "colab": {}
      },
      "source": [
        "# import package that will generate the confusion matrix scores\n",
        "from sklearn.metrics import confusion_matrix\n",
        "# import packages that will help display the scores\n",
        "import seaborn as sns\n",
        "import pandas as pd"
      ],
      "execution_count": 0,
      "outputs": []
    },
    {
      "cell_type": "code",
      "metadata": {
        "id": "yOYi46CSgacc",
        "colab_type": "code",
        "colab": {}
      },
      "source": [
        "# generate confusion matrix scores\n",
        "confusion_matrix_scores = confusion_matrix(y_test, model.predict_classes(X_test), labels=[1, 0])\n",
        "\n",
        "# display scores as a heatmap\n",
        "df = pd.DataFrame(confusion_matrix_scores, \n",
        "                  columns = [\"Predicted Pneumonia\", \"Predicted Normal\"],\n",
        "                  index = [\"Actually Pneumonia\", \"Actually Normal\"])\n",
        "\n",
        "sns.heatmap(df, annot=True, fmt=\"d\", cmap=\"YlGnBu\")\n",
        "plt.show()"
      ],
      "execution_count": 0,
      "outputs": []
    },
    {
      "cell_type": "code",
      "metadata": {
        "id": "NbGrICjWL9j0",
        "colab_type": "code",
        "cellView": "form",
        "colab": {}
      },
      "source": [
        "#@title What is the **top-left** quadrant showing?\n",
        "top_left = \"[select an option]\" #@param [\"false positives\", \"true positives\", \"false negatives\", \"true negatives\", \"[select an option]\"]\n",
        "print(top_left)\n",
        "submit_answer('task_15', top_left)\n"
      ],
      "execution_count": 0,
      "outputs": []
    },
    {
      "cell_type": "code",
      "metadata": {
        "id": "4hgjD02tMqOA",
        "colab_type": "code",
        "cellView": "form",
        "colab": {}
      },
      "source": [
        "#@title What is the **top-right** quadrant showing?\n",
        "top_right = \"[select an option]\" #@param [\"false positives\", \"true positives\", \"false negatives\", \"true negatives\", \"[select an option]\"]\n",
        "print(top_right)\n",
        "submit_answer('task_16', top_right)"
      ],
      "execution_count": 0,
      "outputs": []
    },
    {
      "cell_type": "code",
      "metadata": {
        "id": "ciHgTEKPMvZQ",
        "colab_type": "code",
        "cellView": "form",
        "colab": {}
      },
      "source": [
        "#@title What is the **bottom-left** quadrant showing?\n",
        "bottom_left = \"[select an option]\" #@param [\"false positives\", \"true positives\", \"false negatives\", \"true negatives\", \"[select an option]\"]\n",
        "print(bottom_left)\n",
        "submit_answer('task_17', bottom_left)"
      ],
      "execution_count": 0,
      "outputs": []
    },
    {
      "cell_type": "code",
      "metadata": {
        "id": "iuxTOKpfM5UT",
        "colab_type": "code",
        "cellView": "form",
        "colab": {}
      },
      "source": [
        "#@title What is the **bottom-right** quadrant showing?\n",
        "bottom_right = \"[select an option]\" #@param [\"false positives\", \"true positives\", \"false negatives\", \"true negatives\", \"[select an option]\"]\n",
        "print(bottom_right)\n",
        "submit_answer('task_18', bottom_right)"
      ],
      "execution_count": 0,
      "outputs": []
    },
    {
      "cell_type": "markdown",
      "metadata": {
        "id": "u5lH7xFe7BNf",
        "colab_type": "text"
      },
      "source": [
        "# 21. Lets calulate the Precision and Recall"
      ]
    },
    {
      "cell_type": "code",
      "metadata": {
        "id": "6994I5DXgsWF",
        "colab_type": "code",
        "colab": {}
      },
      "source": [
        "tp, fn, fp, tn = confusion_matrix_scores.ravel()\n",
        "\n",
        "precision = tp / ( tp + fp )\n",
        "recall =  tp / ( tp + fn )\n",
        "\n",
        "print('precision -', precision)\n",
        "print('recall -', recall)"
      ],
      "execution_count": 0,
      "outputs": []
    },
    {
      "cell_type": "markdown",
      "metadata": {
        "id": "1pxkyoTi7GuG",
        "colab_type": "text"
      },
      "source": [
        "## 22. Let's alter the prediction boundary threshold"
      ]
    },
    {
      "cell_type": "code",
      "metadata": {
        "id": "iOw2y5htEtCw",
        "colab_type": "code",
        "colab": {}
      },
      "source": [
        "prediction_probabilities = model.predict(X_test)"
      ],
      "execution_count": 0,
      "outputs": []
    },
    {
      "cell_type": "code",
      "metadata": {
        "id": "wPXwGiRshHEU",
        "colab_type": "code",
        "cellView": "form",
        "colab": {}
      },
      "source": [
        "#@title Move the threshold between 0 and 1 and see how the confusion matrix and precision/recall scores at the bottom change. { run: \"auto\" }\n",
        "THRESHOLD = 0.5 #@param {type:\"slider\", min:0, max:1, step:0.1}\n",
        "\n",
        "# THRESHOLD = 0.9\n",
        "prediction_classes = prediction_probabilities>THRESHOLD\n",
        "\n",
        "# generate confusion matrix scores\n",
        "confusion_matrix_scores = confusion_matrix(y_test, prediction_classes, labels=[1, 0])\n",
        "\n",
        "# display scores as a heatmap\n",
        "df = pd.DataFrame(confusion_matrix_scores, \n",
        "                  columns = [\"Predicted Pneumonia\", \"Predicted Normal\"],\n",
        "                  index = [\"Actually Pneumonia\", \"Actually Normal\"])\n",
        "\n",
        "sns.heatmap(df, annot=True, fmt=\"d\", cmap=\"YlGnBu\")\n",
        "plt.show()\n",
        "\n",
        "\n",
        "# plt.scatter(prediction_probabilities, np.zeros(len(prediction_probabilities)),marker='|', alpha=0.5, s=500)\n",
        "# plt.xlim(0,1)\n",
        "# plt.xlabel('Probibility of Pneumonia')\n",
        "# plt.show()\n",
        "\n",
        "# display how the test images are being classified based on their probabilities\n",
        "plt.scatter(prediction_probabilities[prediction_classes == 1], \n",
        "            np.zeros(len(prediction_probabilities))[ (prediction_classes ==1 ).squeeze()],\n",
        "            marker='|', alpha=0.3, s=500, label='Pneumonia', c='r')\n",
        "\n",
        "plt.scatter(prediction_probabilities[prediction_classes == 0], \n",
        "            np.zeros(len(prediction_probabilities))[(prediction_classes == 0).squeeze()],\n",
        "            marker='|', alpha=0.3, s=500, label='Normal', c='g')\n",
        "\n",
        "\n",
        "plt.legend()\n",
        "plt.xlim(0,1)\n",
        "plt.xlabel('Probibility of Pneumonia')\n",
        "\n",
        "# draw the decision threshold boundary\n",
        "plt.axvline(THRESHOLD, linestyle='dashed',c='black')\n",
        "\n",
        "plt.show()\n",
        "\n",
        "# calculate precision and recall\n",
        "tp, fn, fp, tn = confusion_matrix_scores.ravel()\n",
        "precision = tp / ( tp + fp )\n",
        "recall =  tp / ( tp + fn )\n",
        "print('precision -', precision)\n",
        "print('recall -', recall)"
      ],
      "execution_count": 0,
      "outputs": []
    },
    {
      "cell_type": "code",
      "metadata": {
        "id": "VmJkYrU3_HJt",
        "colab_type": "code",
        "cellView": "form",
        "colab": {}
      },
      "source": [
        "#@title If you wanted to absolutely minimise how many people you falsely diagnose as having pneumonia, what decision threshold would you use? (The answer you enter doesn't need to be precise.)\n",
        "threshold =  0.5#@param {type:\"number\"}\n",
        "print(threshold)\n",
        "\n",
        "if threshold >= 0.98:\n",
        "  threshold_level = 'peaked'\n",
        "elif threshold >= 0.7:\n",
        "  threshold_level = 'high'\n",
        "elif threshold >= 0.4: \n",
        "  threshold_level = 'middle'\n",
        "elif threshold >= 0.02:\n",
        "  threshold_level = 'low'\n",
        "else:\n",
        "  threshold_level = 'peaked'\n",
        "\n",
        "if threshold_level == 'peaked':\n",
        "  print(\"HINT: you don't want your threshold to be 0 or 1 (or very very close to),\\n test out what happens when you do that above and look closely at the confusion matrix.\") \n",
        "\n",
        "submit_answer('task_19', threshold_level)"
      ],
      "execution_count": 0,
      "outputs": []
    },
    {
      "cell_type": "code",
      "metadata": {
        "id": "wDXwjRDyCeZS",
        "colab_type": "code",
        "cellView": "form",
        "colab": {}
      },
      "source": [
        "#@title If the negative impact of false postives vs false negatives was roughly equal, what decision threshold would you use? (The answer you enter doesn't need to be precise.)\n",
        "threshold = 0.5 #@param {type:\"number\"}\n",
        "print(threshold)\n",
        "\n",
        "if threshold >= 0.98:\n",
        "  threshold_level = 'peaked'\n",
        "elif threshold >= 0.7:\n",
        "  threshold_level = 'high'\n",
        "elif threshold >= 0.4: \n",
        "  threshold_level = 'middle'\n",
        "elif threshold >= 0.02:\n",
        "  threshold_level = 'low'\n",
        "else:\n",
        "  threshold_level = 'peaked'\n",
        "\n",
        "if threshold_level == 'peaked':\n",
        "  print(\"HINT: you don't want your threshold to be 0 or 1 (or very very close to),\\n test out what happens when you do that above and look closely at the confusion matrix.\") \n",
        "\n",
        "submit_answer('task_20', threshold_level)"
      ],
      "execution_count": 0,
      "outputs": []
    },
    {
      "cell_type": "markdown",
      "metadata": {
        "id": "_-yMrZ797vQX",
        "colab_type": "text"
      },
      "source": [
        "## 23. When you want to simply \"deploy\" your model with its new threshold"
      ]
    },
    {
      "cell_type": "code",
      "metadata": {
        "id": "QiIDYAMeiN9K",
        "colab_type": "code",
        "colab": {}
      },
      "source": [
        "# predict as you would normally and compare the output with your desired threshold\n",
        "model.predict(X_test) > 0.1"
      ],
      "execution_count": 0,
      "outputs": []
    },
    {
      "cell_type": "markdown",
      "metadata": {
        "id": "ogHBZ1oLDsNv",
        "colab_type": "text"
      },
      "source": [
        "## 24. Lesson Completed 🎉\n",
        "To recap, in this notebook we:\n",
        "\n",
        "1.   Imported data and built an image classifier\n",
        "2.   Got raw score predictions and class predictions from a model\n",
        "3.   Visualised a model performance using a confusion matrix\n",
        "4.   🌟Optimised a model decision threshold using Precision/Recall scores\n",
        "5.   Deployed a model using your desired decision threshold."
      ]
    }
  ]
}